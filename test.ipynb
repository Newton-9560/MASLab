{
 "cells": [
  {
   "cell_type": "code",
   "execution_count": null,
   "id": "b4c0246e",
   "metadata": {},
   "outputs": [],
   "source": [
    "from openai import OpenAI\n",
    "\n",
    "openai = OpenAI(\n",
    "    api_key=\"bIqaNDIFG0wrNSOPmlbIPzqIinK5sTvI\",\n",
    "    base_url=\"https://api.deepinfra.com/v1/openai\",\n",
    ")\n",
    "\n",
    "stream = False # or False\n",
    "\n",
    "chat_completion = openai.chat.completions.create(\n",
    "    model=\"meta-llama/Meta-Llama-3-8B-Instruct\",\n",
    "    messages=[{\"role\": \"user\", \"content\": \"Tell me a long joke.\"}],\n",
    "    stream=stream,\n",
    "    temperature=1,\n",
    ")\n",
    "\n",
    "if stream:\n",
    "    for event in chat_completion:\n",
    "        if event.choices[0].finish_reason:\n",
    "            print(event.choices[0].finish_reason,\n",
    "                  event.usage['prompt_tokens'],\n",
    "                  event.usage['completion_tokens'])\n",
    "        else:\n",
    "            print(event.choices[0].delta.content)\n",
    "else:\n",
    "    print(chat_completion.choices[0].message.content)"
   ]
  },
  {
   "cell_type": "code",
   "execution_count": null,
   "id": "cfd160e7",
   "metadata": {},
   "outputs": [],
   "source": [
    "from recorder import MASDataset\n",
    "\n",
    "dataset = MASDataset.load_pickle(\"/home/hanwen/workspace/2025/MASLab/results/Meta-Llama-3-8B-Instruct/MMLU3/llm_debate/lcul7awf_infer.pkl\")\n"
   ]
  },
  {
   "cell_type": "code",
   "execution_count": null,
   "id": "3ea79a54",
   "metadata": {},
   "outputs": [],
   "source": [
    "dataset.questions[0].final_response.generation_list"
   ]
  },
  {
   "cell_type": "code",
   "execution_count": null,
   "id": "5bc2cdf0",
   "metadata": {},
   "outputs": [],
   "source": [
    "import json\n",
    "\n",
    "with open(\"/home/hanwen/workspace/2025/MASLab/datasets/data/MMLU.json\", \"r\") as f:\n",
    "    data = json.load(f)\n",
    "\n",
    "for i in range(5):\n",
    "    subset = data[i*100:(i+1)*100]\n",
    "    with open(f\"/home/hanwen/workspace/2025/MASLab/datasets/data/MMLU_{i}.json\", \"w\") as f:\n",
    "        json.dump(subset, f, indent=4)"
   ]
  },
  {
   "cell_type": "code",
   "execution_count": 5,
   "id": "d02b92eb",
   "metadata": {},
   "outputs": [
    {
     "name": "stderr",
     "output_type": "stream",
     "text": [
      "Overall progress: 100%|██████████| 500/500 [00:10<00:00, 49.82it/s]"
     ]
    },
    {
     "name": "stdout",
     "output_type": "stream",
     "text": [
      "Task 0 completed\n",
      "Task 1 completed\n",
      "Task 2 completed\n",
      "Task 3 completed\n",
      "Task 4 completed\n"
     ]
    },
    {
     "name": "stderr",
     "output_type": "stream",
     "text": [
      "\n"
     ]
    }
   ],
   "source": [
    "from concurrent.futures import ThreadPoolExecutor\n",
    "import time\n",
    "from tqdm import tqdm\n",
    "import threading\n",
    "\n",
    "# Shared progress bar with thread lock\n",
    "\n",
    "\n",
    "def task(n, pbar, pbar_lock):\n",
    "    for i in range(100):\n",
    "        time.sleep(0.1)\n",
    "        \n",
    "        # Update shared progress bar safely\n",
    "        with pbar_lock:\n",
    "            pbar.update(1)\n",
    "    \n",
    "    return f\"Task {n} completed\"\n",
    "\n",
    "def worker():\n",
    "    # Calculate total iterations across all tasks\n",
    "    total_iterations = 5 * 100  # 5 tasks × 100 iterations each\n",
    "    pbar = tqdm(total=total_iterations, desc=\"Overall progress\")\n",
    "    pbar_lock = threading.Lock()\n",
    "\n",
    "    with ThreadPoolExecutor(max_workers=5) as executor:\n",
    "        futures = [executor.submit(task, i, pbar, pbar_lock) for i in range(5)]\n",
    "        \n",
    "        for future in futures:\n",
    "            result = future.result()\n",
    "            print(result)\n",
    "\n",
    "    pbar.close()\n",
    "    \n",
    "worker()"
   ]
  }
 ],
 "metadata": {
  "kernelspec": {
   "display_name": "MAS",
   "language": "python",
   "name": "python3"
  },
  "language_info": {
   "codemirror_mode": {
    "name": "ipython",
    "version": 3
   },
   "file_extension": ".py",
   "mimetype": "text/x-python",
   "name": "python",
   "nbconvert_exporter": "python",
   "pygments_lexer": "ipython3",
   "version": "3.12.4"
  }
 },
 "nbformat": 4,
 "nbformat_minor": 5
}
